version https://git-lfs.github.com/spec/v1
oid sha256:f3d5aff1f7245338a7d8aa6d10cf188b2373698e09e01a0818a40d8ce081aa09
size 44186
